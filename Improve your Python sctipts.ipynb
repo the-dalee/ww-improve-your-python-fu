{
 "cells": [
  {
   "cell_type": "markdown",
   "metadata": {
    "slideshow": {
     "slide_type": "slide"
    }
   },
   "source": [
    "# Improve your scripts\n",
    "## Cool Python features that will make your scripts better \n",
    "\n",
    "Wednesday Worksop\n",
    "\n",
    "by Damian Lippok"
   ]
  },
  {
   "cell_type": "markdown",
   "metadata": {
    "slideshow": {
     "slide_type": "subslide"
    }
   },
   "source": [
    "# Table of contents\n",
    "\n",
    "1. String formatting\n",
    "2. Type hints\n",
    "3. Working with paths and files\n",
    "    - Paths\n",
    "    - Directory listings\n",
    "    - Working with temporary files\n",
    "4. Command line and console scripts\n",
    "    - Click\n",
    "    - Own setup scripts\n",
    "    - Python Prompt Toolkit"
   ]
  },
  {
   "cell_type": "markdown",
   "metadata": {
    "slideshow": {
     "slide_type": "slide"
    }
   },
   "source": [
    "## String formatting"
   ]
  },
  {
   "cell_type": "code",
   "execution_count": 1,
   "metadata": {
    "slideshow": {
     "slide_type": "subslide"
    }
   },
   "outputs": [
    {
     "name": "stdout",
     "output_type": "stream",
     "text": [
      "This is a story about three brave friends, a Sorcerrer called Marlin, a Thief called Anna, and a Blacksmith called Will.\n"
     ]
    }
   ],
   "source": [
    "name1 = \"Marlin\"\n",
    "profession1 = \"Sorcerer\"\n",
    "\n",
    "name2 = \"Anna\"\n",
    "profession2 = \"Thief\"\n",
    "\n",
    "name3 = \"Will\"\n",
    "profession3 = \"Blacksmith\"\n",
    "\n",
    "message = \"This is a story about three brave friends, a \" + profession1 + \" called \" + name1 + \", a \" + profession2 + \" called \" + name2 + \", and a \" + profession3 + \" called \" + name3 + \".\"\n",
    "print(message)"
   ]
  },
  {
   "cell_type": "code",
   "execution_count": 2,
   "metadata": {
    "slideshow": {
     "slide_type": "subslide"
    }
   },
   "outputs": [
    {
     "ename": "TypeError",
     "evalue": "must be str, not int",
     "output_type": "error",
     "traceback": [
      "\u001b[0;31m---------------------------------------------------------------------------\u001b[0m",
      "\u001b[0;31mTypeError\u001b[0m                                 Traceback (most recent call last)",
      "\u001b[0;32m<ipython-input-2-b4b6d7e06c65>\u001b[0m in \u001b[0;36m<module>\u001b[0;34m()\u001b[0m\n\u001b[1;32m      9\u001b[0m \u001b[0mprofession3\u001b[0m \u001b[0;34m=\u001b[0m \u001b[0;34m\"Blacksmith\"\u001b[0m\u001b[0;34m\u001b[0m\u001b[0m\n\u001b[1;32m     10\u001b[0m \u001b[0;34m\u001b[0m\u001b[0m\n\u001b[0;32m---> 11\u001b[0;31m \u001b[0mmessage\u001b[0m \u001b[0;34m=\u001b[0m \u001b[0;34m\"This is a story about \"\u001b[0m \u001b[0;34m+\u001b[0m \u001b[0mnumber\u001b[0m \u001b[0;34m+\u001b[0m \u001b[0;34m\" brave friends, a \"\u001b[0m \u001b[0;34m+\u001b[0m \u001b[0mprofession1\u001b[0m \u001b[0;34m+\u001b[0m \u001b[0;34m\" called \"\u001b[0m \u001b[0;34m+\u001b[0m \u001b[0mname1\u001b[0m \u001b[0;34m+\u001b[0m \u001b[0;34m\", a \"\u001b[0m \u001b[0;34m+\u001b[0m \u001b[0mprofession2\u001b[0m \u001b[0;34m+\u001b[0m \u001b[0;34m\" called \"\u001b[0m \u001b[0;34m+\u001b[0m \u001b[0mname2\u001b[0m \u001b[0;34m+\u001b[0m \u001b[0;34m\", and a \"\u001b[0m \u001b[0;34m+\u001b[0m \u001b[0mprofession3\u001b[0m \u001b[0;34m+\u001b[0m \u001b[0;34m\" called \"\u001b[0m \u001b[0;34m+\u001b[0m \u001b[0mname3\u001b[0m \u001b[0;34m+\u001b[0m \u001b[0;34m\".\"\u001b[0m\u001b[0;34m\u001b[0m\u001b[0m\n\u001b[0m\u001b[1;32m     12\u001b[0m \u001b[0mprint\u001b[0m\u001b[0;34m(\u001b[0m\u001b[0mmessage\u001b[0m\u001b[0;34m)\u001b[0m\u001b[0;34m\u001b[0m\u001b[0m\n",
      "\u001b[0;31mTypeError\u001b[0m: must be str, not int"
     ]
    }
   ],
   "source": [
    "number = 3\n",
    "name1 = \"Marlin\"\n",
    "profession1 = \"Sorcerer\"\n",
    "\n",
    "name2 = \"Anna\"\n",
    "profession2 = \"Thief\"\n",
    "\n",
    "name3 = \"Will\"\n",
    "profession3 = \"Blacksmith\"\n",
    "\n",
    "message = \"This is a story about \" + number + \" brave friends, a \" + profession1 + \" called \" + name1 + \", a \" + profession2 + \" called \" + name2 + \", and a \" + profession3 + \" called \" + name3 + \".\"\n",
    "print(message)"
   ]
  },
  {
   "cell_type": "code",
   "execution_count": 30,
   "metadata": {
    "slideshow": {
     "slide_type": "subslide"
    }
   },
   "outputs": [
    {
     "name": "stdout",
     "output_type": "stream",
     "text": [
      "This is a story about 3 brave friends, a Sorcerrer called Marlin, a Thief called Anna, and a Blacksmith called Will.\n"
     ]
    }
   ],
   "source": [
    "number = 3\n",
    "\n",
    "name1 = \"Marlin\"\n",
    "profession1 = \"Sorcerer\"\n",
    "\n",
    "name2 = \"Anna\"\n",
    "profession2 = \"Thief\"\n",
    "\n",
    "name3 = \"Will\"\n",
    "profession3 = \"Blacksmith\"\n",
    "\n",
    "message = \"This is a story about {} brave friends, a {} called {}, a {} called {}, and a {} called {}.\"\n",
    "\n",
    "print(message.format(number, profession1, name1, profession2, name2, profession3, name3))"
   ]
  },
  {
   "cell_type": "code",
   "execution_count": 31,
   "metadata": {
    "slideshow": {
     "slide_type": "subslide"
    }
   },
   "outputs": [
    {
     "name": "stdout",
     "output_type": "stream",
     "text": [
      "This is a story about 3 brave friends, a Sorcerrer called Marlin, a Thief called Anna, and a Blacksmith called Will.\n"
     ]
    }
   ],
   "source": [
    "adventurers = {\n",
    "    \"number\" : 3,\n",
    "    \"name1\" : \"Marlin\",\n",
    "    \"profession1\" : \"Sorcerer\",\n",
    "    \"name2\" : \"Anna\",\n",
    "    \"profession2\" : \"Thief\",\n",
    "    \"name3\" : \"Will\",\n",
    "    \"profession3\" : \"Blacksmith\"\n",
    "}\n",
    "\n",
    "message = \"This is a story about {number} brave friends, a {profession1} called {name1}, a {profession2} called {name2}, and a {profession3} called {name3}.\"\n",
    "\n",
    "print(message.format(**adventurers))"
   ]
  },
  {
   "cell_type": "code",
   "execution_count": 1,
   "metadata": {
    "scrolled": true,
    "slideshow": {
     "slide_type": "subslide"
    }
   },
   "outputs": [
    {
     "name": "stdout",
     "output_type": "stream",
     "text": [
      "This is a story about 3 brave friends, a Sorcerer called Marlin, a Thief called Anna, and a Blacksmith called Will.\n"
     ]
    }
   ],
   "source": [
    "number = 3\n",
    "\n",
    "name1 = \"Marlin\"\n",
    "profession1 = \"Sorcerer\"\n",
    "\n",
    "name2 = \"Anna\"\n",
    "profession2 = \"Thief\"\n",
    "\n",
    "name3 = \"Will\"\n",
    "profession3 = \"Blacksmith\"\n",
    "\n",
    "message = f\"This is a story about {number} brave friends, a {profession1} called {name1}, a {profession2} called {name2}, and a {profession3} called {name3}.\"\n",
    "\n",
    "print(message)"
   ]
  },
  {
   "cell_type": "markdown",
   "metadata": {},
   "source": [
    "Python 3.6"
   ]
  },
  {
   "cell_type": "markdown",
   "metadata": {
    "slideshow": {
     "slide_type": "slide"
    }
   },
   "source": [
    "## Type hints"
   ]
  },
  {
   "cell_type": "markdown",
   "metadata": {
    "slideshow": {
     "slide_type": "subslide"
    }
   },
   "source": [
    "Since Python 3.5 you can define types for arguments and return type of your functions "
   ]
  },
  {
   "cell_type": "code",
   "execution_count": 57,
   "metadata": {},
   "outputs": [
    {
     "name": "stdout",
     "output_type": "stream",
     "text": [
      "Flying with 20 mph to Düsseldorf via ['Bochum', 'Duisburg']\n"
     ]
    },
    {
     "data": {
      "text/plain": [
       "True"
      ]
     },
     "execution_count": 57,
     "metadata": {},
     "output_type": "execute_result"
    }
   ],
   "source": [
    "from typing import List\n",
    "\n",
    "def fly(speed: int, destination: str, via: List[str]) -> bool:\n",
    "    print(f'Flying with {speed} mph to {destination} via {via}')\n",
    "    return True\n",
    "\n",
    "fly(20, 'Düsseldorf', ['Bochum', 'Duisburg'])"
   ]
  },
  {
   "cell_type": "markdown",
   "metadata": {
    "slideshow": {
     "slide_type": "subslide"
    }
   },
   "source": [
    "- The types are purely informational\n",
    "- Python won't prevent using parameters with other types\n",
    "- It does even force you to use types. You can put whatever you want there"
   ]
  },
  {
   "cell_type": "code",
   "execution_count": 64,
   "metadata": {},
   "outputs": [
    {
     "name": "stdout",
     "output_type": "stream",
     "text": [
      "Flying with twenty mph to ['Düsseldorf', 'Köln'] via 3\n"
     ]
    },
    {
     "data": {
      "text/plain": [
       "'I am done'"
      ]
     },
     "execution_count": 64,
     "metadata": {},
     "output_type": "execute_result"
    }
   ],
   "source": [
    "from typing import List\n",
    "\n",
    "def fly(speed: int, destination: 'city', via: List[str]) -> bool:\n",
    "    print(f'Flying with {speed} mph to {destination} via {via}')\n",
    "    return 'I am done'\n",
    "\n",
    "fly('twenty', ['Düsseldorf', 'Köln'], 3)"
   ]
  },
  {
   "cell_type": "markdown",
   "metadata": {},
   "source": [
    "- IntelliJ can read them and help you with better autocompletion, documentation and error checks"
   ]
  },
  {
   "cell_type": "markdown",
   "metadata": {
    "slideshow": {
     "slide_type": "subslide"
    }
   },
   "source": [
    "In fact you can read the type hints on runtime"
   ]
  },
  {
   "cell_type": "code",
   "execution_count": 66,
   "metadata": {},
   "outputs": [
    {
     "name": "stdout",
     "output_type": "stream",
     "text": [
      "{'speed': <class 'int'>, 'destination': 'city', 'via': typing.List[str], 'return': <class 'bool'>}\n"
     ]
    }
   ],
   "source": [
    "from typing import List\n",
    "\n",
    "def fly(speed: int, destination: 'city', via: List[str]) -> bool:\n",
    "    pass\n",
    "\n",
    "print(fly.__annotations__)"
   ]
  },
  {
   "cell_type": "markdown",
   "metadata": {
    "slideshow": {
     "slide_type": "subslide"
    }
   },
   "source": [
    "Python 3.6 allows you to even use type hints for regular variables"
   ]
  },
  {
   "cell_type": "code",
   "execution_count": 76,
   "metadata": {},
   "outputs": [
    {
     "name": "stdout",
     "output_type": "stream",
     "text": [
      "Flying with 10 mph (16.0934 kph) to Düsseldorf via ['Bochum', 'Duisburg']\n"
     ]
    },
    {
     "data": {
      "text/plain": [
       "{'destination': str, 'kph': float, 'speed': int, 'via': typing.List[str]}"
      ]
     },
     "execution_count": 76,
     "metadata": {},
     "output_type": "execute_result"
    }
   ],
   "source": [
    "from typing import List, get_type_hints\n",
    "\n",
    "speed: int = 10\n",
    "destination: str = 'Düsseldorf'\n",
    "via: List[str] =['Bochum', 'Duisburg']\n",
    "kph: float = speed * 1.60934\n",
    "\n",
    "print(f'Flying with {speed} mph ({kph} kph) to {destination} via {via}')\n",
    "\n",
    "import __main__\n",
    "get_type_hints(__main__)\n"
   ]
  },
  {
   "cell_type": "markdown",
   "metadata": {
    "slideshow": {
     "slide_type": "slide"
    }
   },
   "source": [
    "## Working with paths and files"
   ]
  },
  {
   "cell_type": "markdown",
   "metadata": {
    "slideshow": {
     "slide_type": "subslide"
    }
   },
   "source": [
    "### Paths"
   ]
  },
  {
   "cell_type": "code",
   "execution_count": 78,
   "metadata": {
    "scrolled": true,
    "slideshow": {
     "slide_type": "subslide"
    }
   },
   "outputs": [
    {
     "name": "stdout",
     "output_type": "stream",
     "text": [
      "/Users/dlippok/Desktop\n",
      "False\n",
      "False\n",
      "False\n",
      "file:///Users/dlippok/Desktop\n"
     ]
    }
   ],
   "source": [
    "from pathlib import Path\n",
    "\n",
    "path = Path(\"/\") / \"Users\" / \"dlippok\" / \"Desktop\"\n",
    "print(path)\n",
    "print(path.exists())\n",
    "print(path.is_file())\n",
    "print(path.is_dir())\n",
    "print(path.as_uri())\n"
   ]
  },
  {
   "cell_type": "code",
   "execution_count": 42,
   "metadata": {
    "slideshow": {
     "slide_type": "subslide"
    }
   },
   "outputs": [
    {
     "name": "stdout",
     "output_type": "stream",
     "text": [
      "/var/log/error.log\n",
      "/var/log/access.log\n"
     ]
    }
   ],
   "source": [
    "from pathlib import Path\n",
    "\n",
    "\n",
    "log_root = Path(\"/var\") / \"log\"\n",
    "\n",
    "error_log = log_root / \"error.log\"\n",
    "access_log = log_root / \"access.log\"\n",
    "\n",
    "print(error_log)\n",
    "print(access_log)\n"
   ]
  },
  {
   "cell_type": "code",
   "execution_count": 35,
   "metadata": {
    "slideshow": {
     "slide_type": "subslide"
    }
   },
   "outputs": [
    {
     "name": "stdout",
     "output_type": "stream",
     "text": [
      "LOGGING something\n"
     ]
    }
   ],
   "source": [
    "from pathlib import Path\n",
    "\n",
    "log_file = Path.home() / \"Desktop\" / \"output.txt\"\n",
    "\n",
    "with log_file.open(mode='w+') as f: \n",
    "    f.write(\"LOGGING something\")\n",
    "    \n",
    "with log_file.open(mode='r') as f: \n",
    "    print(f.readline())"
   ]
  },
  {
   "cell_type": "markdown",
   "metadata": {
    "slideshow": {
     "slide_type": "subslide"
    }
   },
   "source": [
    "### Direcrory listing"
   ]
  },
  {
   "cell_type": "code",
   "execution_count": 82,
   "metadata": {
    "slideshow": {
     "slide_type": "subslide"
    }
   },
   "outputs": [
    {
     "name": "stdout",
     "output_type": "stream",
     "text": [
      "- Improve your Python sctipts.html (file)\n",
      "- Improve your Python sctipts.slides.html (file)\n",
      "- notebook.tex (file)\n",
      "- Improve your Python sctipts.ipynb (file)\n",
      "- README.md (file)\n",
      "- demo (directory)\n",
      "- .ipynb_checkpoints (directory)\n"
     ]
    }
   ],
   "source": [
    "from pathlib import Path\n",
    "\n",
    "for entry in Path('.').iterdir(): \n",
    "    type = 'file' if entry.is_file() else 'directory'\n",
    "    print(f\"- {entry} ({type})\")"
   ]
  },
  {
   "cell_type": "code",
   "execution_count": 38,
   "metadata": {
    "slideshow": {
     "slide_type": "subslide"
    }
   },
   "outputs": [
    {
     "name": "stdout",
     "output_type": "stream",
     "text": [
      "- Improve your Python sctipts.html\n",
      "- Improve your Python sctipts.slides.html\n"
     ]
    }
   ],
   "source": [
    "from pathlib import Path\n",
    "\n",
    "for entry in Path('.').iterdir(): \n",
    "    if entry.match('*.html'):\n",
    "        print(f\"- {entry}\")"
   ]
  },
  {
   "cell_type": "markdown",
   "metadata": {
    "slideshow": {
     "slide_type": "subslide"
    }
   },
   "source": [
    "### Temporary files"
   ]
  },
  {
   "cell_type": "code",
   "execution_count": 46,
   "metadata": {
    "slideshow": {
     "slide_type": "subslide"
    }
   },
   "outputs": [
    {
     "name": "stdout",
     "output_type": "stream",
     "text": [
      "Inside 'with'\n",
      "Size of temporary file '/tmp/tmpgkhtw4qs': 11 Bytes\n",
      "\n",
      "Outside of 'with'\n",
      "Does file '/tmp/tmpgkhtw4qs' exist?: False\n"
     ]
    }
   ],
   "source": [
    "import tempfile\n",
    "from pathlib import Path\n",
    "\n",
    "with tempfile.NamedTemporaryFile() as somefile:\n",
    "    \n",
    "    somefile.write(\"Hello world\".encode())\n",
    "    somefile.flush()\n",
    "    \n",
    "    size = Path(somefile.name).stat().st_size\n",
    "    \n",
    "    print(\"Inside 'with'\")\n",
    "    print(f\"Size of temporary file '{somefile.name}': {size} Bytes\")\n",
    "\n",
    "print()\n",
    "print(\"Outside of 'with'\")\n",
    "print(f\"Does file '{somefile.name}' exist?: {Path(somefile.name).exists()}\")    "
   ]
  },
  {
   "cell_type": "markdown",
   "metadata": {
    "slideshow": {
     "slide_type": "slide"
    }
   },
   "source": [
    "## Command line and console scripts"
   ]
  },
  {
   "cell_type": "markdown",
   "metadata": {
    "slideshow": {
     "slide_type": "subslide"
    }
   },
   "source": [
    "### Click"
   ]
  },
  {
   "cell_type": "code",
   "execution_count": 13,
   "metadata": {
    "slideshow": {
     "slide_type": "subslide"
    }
   },
   "outputs": [
    {
     "name": "stdout",
     "output_type": "stream",
     "text": [
      "Hello -f from -f\n"
     ]
    }
   ],
   "source": [
    "#!/bin/env python3\n",
    "import sys\n",
    "\n",
    "def print_usage():\n",
    "    print(\"Usage:\")\n",
    "    print(\"greet [FROM] [TO]\")\n",
    "\n",
    "def greet():\n",
    "    if '--help' in sys.argv:\n",
    "        print_usage()\n",
    "    elif len(sys.argv) > 2:\n",
    "        greet_from = sys.argv[1]\n",
    "        greet_to = sys.argv[2]\n",
    "\n",
    "        print(f\"Hello {greet_to} from {greet_from}\")\n",
    "    else:\n",
    "        print(\"Error: Wrong number of parameters.\")\n",
    "        print_usage()\n",
    "        \n",
    "    \n",
    "if __name__ == \"__main__\":\n",
    "    greet()"
   ]
  },
  {
   "cell_type": "code",
   "execution_count": null,
   "metadata": {
    "collapsed": true,
    "slideshow": {
     "slide_type": "subslide"
    }
   },
   "outputs": [],
   "source": [
    "#!/bin/env python3\n",
    "import click\n",
    "\n",
    "@click.command()\n",
    "@click.argument('greet_from')\n",
    "@click.argument('greet_to')\n",
    "def greet(greet_from, greet_to):\n",
    "    \"\"\"\n",
    "    This script will greet you politely\n",
    "    \"\"\"\n",
    "    print(f\"Hello {greet_to} from {greet_from}\")\n",
    "    \n",
    "if __name__ == \"__main__\":\n",
    "    greet()\n",
    "    "
   ]
  },
  {
   "cell_type": "markdown",
   "metadata": {
    "slideshow": {
     "slide_type": "subslide"
    }
   },
   "source": [
    "#### Try it yourself\n",
    "\n",
    "```sh\n",
    "$ pip3 install click\n",
    "$ cd demo/click\n",
    "$ python3 greeter1.py John Smith\n",
    "$ python3 greeter1.py --help\n",
    "```"
   ]
  },
  {
   "cell_type": "code",
   "execution_count": null,
   "metadata": {
    "collapsed": true,
    "slideshow": {
     "slide_type": "subslide"
    }
   },
   "outputs": [],
   "source": [
    "#!/bin/env python3\n",
    "import click\n",
    "\n",
    "@click.command()\n",
    "@click.argument('name')\n",
    "@click.option('--greetfrom', '-f', default=\"admin\", \n",
    "              help=\"Who is greeting the person\")\n",
    "@click.option('--how', '-h', default=\"Hello\", \n",
    "              help=\"How to greet the person\")\n",
    "def greet(name, greetfrom, how):\n",
    "    \"\"\"\n",
    "    This script will greet person with [NAME] politely\n",
    "    \"\"\"\n",
    "    print(f\"{how} {name} from {greetfrom}\")\n",
    "    \n",
    "if __name__ == \"__main__\":\n",
    "    greet()"
   ]
  },
  {
   "cell_type": "markdown",
   "metadata": {
    "slideshow": {
     "slide_type": "subslide"
    }
   },
   "source": [
    "#### Try it yourself\n",
    "\n",
    "```sh\n",
    "$ pip3 install click\n",
    "$ cd demo/click\n",
    "$ python3 greeter2.py John\n",
    "$ python3 greeter2.py John -f Smith\n",
    "$ python3 greeter2.py John -h Greetings\n",
    "$ python3 greeter2.py John -h Hi -f Smith\n",
    "$ python3 greeter2.py --help\n",
    "```"
   ]
  },
  {
   "cell_type": "markdown",
   "metadata": {
    "slideshow": {
     "slide_type": "subslide"
    }
   },
   "source": [
    "#### Limitation\n",
    "\n",
    "You cannot call functions decorated with `@click.command()` directly."
   ]
  },
  {
   "cell_type": "code",
   "execution_count": 52,
   "metadata": {
    "slideshow": {
     "slide_type": "-"
    }
   },
   "outputs": [
    {
     "name": "stdout",
     "output_type": "stream",
     "text": [
      "OOPS! Something went wrong: not writable\n"
     ]
    }
   ],
   "source": [
    "#!/bin/env python3\n",
    "import click\n",
    "\n",
    "@click.command()\n",
    "@click.argument('name')\n",
    "def greet(name):\n",
    "    print(f\"Hello {name}\")\n",
    "\n",
    "try:\n",
    "    greet('Jasmin')\n",
    "except Exception as e:\n",
    "    print(f\"OOPS! Something went wrong: {e}\")"
   ]
  },
  {
   "cell_type": "markdown",
   "metadata": {
    "slideshow": {
     "slide_type": "subslide"
    }
   },
   "source": [
    "#### Solution\n",
    "\n",
    "Decorate wrapper function (eg. `cli()`) and call the actual function inside of it."
   ]
  },
  {
   "cell_type": "code",
   "execution_count": 51,
   "metadata": {
    "slideshow": {
     "slide_type": "subslide"
    }
   },
   "outputs": [
    {
     "name": "stdout",
     "output_type": "stream",
     "text": [
      "Hello Jasmin\n"
     ]
    }
   ],
   "source": [
    "#!/bin/env python3\n",
    "import click\n",
    "\n",
    "\n",
    "def greet(name):\n",
    "    print(f\"Hello {name}\")\n",
    "    \n",
    "@click.command()\n",
    "@click.argument('name')\n",
    "def cli(name):\n",
    "    greet(name)\n",
    "\n",
    "try:\n",
    "    greet('Jasmin')\n",
    "except Exception as e:\n",
    "    print(f\"Something went wrong: {e}\")"
   ]
  },
  {
   "cell_type": "markdown",
   "metadata": {
    "slideshow": {
     "slide_type": "-"
    }
   },
   "source": [
    "With two additional lines you can provide both CLI application and a python library with the same functionality. Your clients will love you!"
   ]
  },
  {
   "cell_type": "markdown",
   "metadata": {
    "slideshow": {
     "slide_type": "subslide"
    }
   },
   "source": [
    "### Own setup scripts"
   ]
  },
  {
   "cell_type": "code",
   "execution_count": null,
   "metadata": {
    "collapsed": true,
    "slideshow": {
     "slide_type": "subslide"
    }
   },
   "outputs": [],
   "source": [
    "# File ./greeter/cli.py\n",
    "# You will also need empty file ./greeter/__init__.py so that greet function\n",
    "# will be in package greeter\n",
    "\n",
    "import click\n",
    "\n",
    "@click.command()\n",
    "@click.argument('name')\n",
    "def greet(name):\n",
    "    print(f\"Hello {name}\")\n",
    "    \n",
    "if __name__ == '__main__':\n",
    "    greet()"
   ]
  },
  {
   "cell_type": "code",
   "execution_count": null,
   "metadata": {
    "collapsed": true,
    "slideshow": {
     "slide_type": "-"
    }
   },
   "outputs": [],
   "source": [
    "# File ./setup.py\n",
    "\n",
    "from setuptools import setup\n",
    "\n",
    "setup(name='mynicetools',\n",
    "      # Put here all requirements of your scripts\n",
    "      # Pip will install them automatically\n",
    "      install_requires=['click'],\n",
    "      version='1.0',\n",
    "      packages=['greeter'],\n",
    "      entry_points={\n",
    "          'console_scripts': [\n",
    "              'sayhello = greeter.cli:greet',\n",
    "          ]\n",
    "      }\n",
    "    )"
   ]
  },
  {
   "cell_type": "markdown",
   "metadata": {
    "slideshow": {
     "slide_type": "subslide"
    }
   },
   "source": [
    "#### Install your new script\n",
    "Run in your console\n",
    "```sh\n",
    "$ cd /path/of/your/project\n",
    "$ sudo pip3 install .\n",
    "Requirement already satisfied: click in /home/dalee/.local/lib/python3.6/site-packages (from mynicetools==1.0)\n",
    "Installing collected packages: mynicetools\n",
    "  Running setup.py install for mynicetools ... done\n",
    "Successfully installed mynicetools-1.0\n",
    "```\n",
    "\n",
    "#### Now you can use the command anywhere\n",
    "Run in your console\n",
    "```sh\n",
    "$ sayhello world\n",
    "Hello world\n",
    "```\n",
    "\n",
    "#### If you don't need them, just remove it\n",
    "Run in your console\n",
    "```sh\n",
    "sudo pip3 uninstall mynicetools\n",
    "```"
   ]
  },
  {
   "cell_type": "markdown",
   "metadata": {
    "slideshow": {
     "slide_type": "subslide"
    }
   },
   "source": [
    "#### You can even specify several commands at once\n",
    "\n",
    "This is a great idea if you want to install whole bunch of scripts from your tooling repository"
   ]
  },
  {
   "cell_type": "code",
   "execution_count": null,
   "metadata": {
    "collapsed": true,
    "slideshow": {
     "slide_type": "-"
    }
   },
   "outputs": [],
   "source": [
    "# File ./setup.py\n",
    "\n",
    "from setuptools import setup\n",
    "\n",
    "setup(name='mynicetools',\n",
    "      install_requires=['click'],\n",
    "      version='1.1',\n",
    "      packages=['greeter', 'hospitality'],\n",
    "      entry_points={\n",
    "          'console_scripts': [\n",
    "              'sayhello = greeter.cli:greet',\n",
    "              'saygoodbye = greeter.cli:farawell',\n",
    "              'offertea = hospitality.teatime:offer',\n",
    "          ]\n",
    "      }\n",
    "    )"
   ]
  },
  {
   "cell_type": "markdown",
   "metadata": {
    "slideshow": {
     "slide_type": "subslide"
    }
   },
   "source": [
    "#### Try it yourself\n",
    "\n",
    "```sh\n",
    "$ cd demo/setup\n",
    "$ sudo pip3 install .\n",
    "$ sayhello Samantha\n",
    "$ saygoodbye Smith\n",
    "$ offertea\n",
    "```"
   ]
  },
  {
   "cell_type": "markdown",
   "metadata": {
    "slideshow": {
     "slide_type": "subslide"
    }
   },
   "source": [
    "### Python Prompt Toolkit"
   ]
  },
  {
   "cell_type": "markdown",
   "metadata": {
    "slideshow": {
     "slide_type": "subslide"
    }
   },
   "source": [
    "Traditional way"
   ]
  },
  {
   "cell_type": "code",
   "execution_count": 85,
   "metadata": {},
   "outputs": [
    {
     "name": "stdout",
     "output_type": "stream",
     "text": [
      "What's yout name?: Angela\n",
      "Hello Angela\n"
     ]
    }
   ],
   "source": [
    "name = input(\"What's yout name?: \")\n",
    "print(f'Hello {name}')"
   ]
  },
  {
   "cell_type": "code",
   "execution_count": null,
   "metadata": {
    "collapsed": true,
    "slideshow": {
     "slide_type": "subslide"
    }
   },
   "outputs": [],
   "source": [
    "from prompt_toolkit import prompt\n",
    "\n",
    "if __name__ == '__main__':\n",
    "    name = prompt(\"What's yout name?: \")\n",
    "    password = prompt(\"What's yout password?: \", is_password=True)\n",
    "    print(f'Hello {name}. Your password is {password}. Nice to meet you!')"
   ]
  },
  {
   "cell_type": "markdown",
   "metadata": {
    "slideshow": {
     "slide_type": "-"
    }
   },
   "source": [
    "#### Try it yourself\n",
    "\n",
    "```sh\n",
    "$ pip3 install prompt_toolkit\n",
    "$ cd demo/prompt\n",
    "$ python3 prompt1.py\n",
    "```"
   ]
  },
  {
   "cell_type": "code",
   "execution_count": null,
   "metadata": {
    "slideshow": {
     "slide_type": "subslide"
    }
   },
   "outputs": [],
   "source": [
    "from prompt_toolkit import prompt\n",
    "from prompt_toolkit.contrib.completers import WordCompleter\n",
    "\n",
    "name_completer = WordCompleter([\n",
    "        'Emma', 'Noah', 'Ava', 'William', 'Sophia', 'Mason',\n",
    "        'Isabella', 'James', 'Mia', 'Benjamin', 'Charlotte', \n",
    "        'Jacob', 'Abigail', 'Michael', 'Emily', 'Elijah',\n",
    "        'Harper', 'Ethan'])\n",
    "\n",
    "if __name__ == '__main__':\n",
    "    name = prompt(\"What's yout name?: \", completer=name_completer)\n",
    "    print(f'Hello {name}. Nice to meet you!')"
   ]
  },
  {
   "cell_type": "markdown",
   "metadata": {
    "slideshow": {
     "slide_type": "-"
    }
   },
   "source": [
    "#### Try it yourself\n",
    "\n",
    "```sh\n",
    "$ pip3 install prompt_toolkit\n",
    "$ cd demo/prompt\n",
    "$ python3 prompt2.py\n",
    "```"
   ]
  },
  {
   "cell_type": "code",
   "execution_count": null,
   "metadata": {
    "collapsed": true,
    "slideshow": {
     "slide_type": "subslide"
    }
   },
   "outputs": [],
   "source": [
    "from prompt_toolkit import prompt\n",
    "from prompt_toolkit.history import InMemoryHistory\n",
    "\n",
    "history = InMemoryHistory()\n",
    "\n",
    "if __name__ == '__main__':\n",
    "    while True:\n",
    "        name = prompt(\"What's yout name?: \", history=history)\n",
    "        print(f'Hello {name}. Nice to meet you!')"
   ]
  },
  {
   "cell_type": "markdown",
   "metadata": {
    "slideshow": {
     "slide_type": "-"
    }
   },
   "source": [
    "#### Try it yourself\n",
    "\n",
    "```sh\n",
    "$ pip3 install prompt_toolkit\n",
    "$ cd demo/prompt\n",
    "$ python3 prompt3.py\n",
    "```"
   ]
  },
  {
   "cell_type": "markdown",
   "metadata": {
    "slideshow": {
     "slide_type": "subslide"
    }
   },
   "source": [
    "### It can do even more\n",
    "\n",
    "- Multiline prompts\n",
    "- Syntax highlighting\n",
    "- Custom color schemes\n",
    "- Custom status bars\n",
    "- Mouse support\n",
    "- VI emulation with one line\n",
    "\n",
    "\n",
    "https://github.com/jonathanslenders/python-prompt-toolkit\n",
    "\n"
   ]
  },
  {
   "cell_type": "markdown",
   "metadata": {
    "slideshow": {
     "slide_type": "slide"
    }
   },
   "source": [
    "# Thanks for your attention\n",
    "\n",
    "## Questions\n",
    "\n",
    "Slides available on:\n",
    "https://github.com/the-dalee/ww-improve-your-python-fu"
   ]
  }
 ],
 "metadata": {
  "celltoolbar": "Slideshow",
  "kernelspec": {
   "display_name": "Python 3",
   "language": "python",
   "name": "python3"
  },
  "language_info": {
   "codemirror_mode": {
    "name": "ipython",
    "version": 3
   },
   "file_extension": ".py",
   "mimetype": "text/x-python",
   "name": "python",
   "nbconvert_exporter": "python",
   "pygments_lexer": "ipython3",
   "version": "3.6.4"
  }
 },
 "nbformat": 4,
 "nbformat_minor": 2
}
